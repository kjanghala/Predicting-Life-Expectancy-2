{
 "cells": [
  {
   "cell_type": "code",
   "execution_count": 2,
   "metadata": {},
   "outputs": [],
   "source": [
    "# import dependencies\n",
    "from flask import (Flask, render_template, request)\n",
    "import numpy as np\n",
    "import pandas as pd\n",
    "import joblib\n",
    "from joblib import dump, load\n",
    "from sklearn.linear_model import LinearRegression\n",
    "from sklearn.preprocessing import StandardScaler"
   ]
  },
  {
   "cell_type": "code",
   "execution_count": null,
   "metadata": {},
   "outputs": [],
   "source": [
    "# import model and scaler\n",
    "model = load('model/model.joblib')\n",
    "X_scaler = load('model/model_scaler.joblib')"
   ]
  },
  {
   "cell_type": "code",
   "execution_count": null,
   "metadata": {},
   "outputs": [],
   "source": [
    "# import csv files\n",
    "sel_state = pd.read_csv('data/derived/sel_state.csv')\n",
    "sel_state = sel_state.set_index('state')\n",
    "income_quartile = pd.read_csv('data/derived/income_quartile.csv')\n",
    "income_quartile = income_quartile.set_index('state')"
   ]
  },
  {
   "cell_type": "code",
   "execution_count": null,
   "metadata": {},
   "outputs": [],
   "source": [
    "# function to process user input\n",
    "def user_input(u_year, u_income, u_state, u_gender):\n",
    "    user_df = pd.DataFrame()\n",
    "    user_df['year'] = [u_year]\n",
    "    u_state = u_state.lower()\n",
    "    if u_income <= income_quartile.loc[u_state, '_25']:\n",
    "        user_df['quartile'] = [1]\n",
    "    elif u_income <= income_quartile.loc[u_state, '_50']:\n",
    "        user_df['quartile'] = [2]\n",
    "    elif u_income <= income_quartile.loc[u_state, '_75']:\n",
    "        user_df['quartile'] = [3]\n",
    "    else:\n",
    "        user_df['quartile'] = [4]\n",
    "    user_df['state'] = u_state\n",
    "    new_df = sel_state.loc[[u_state]]\n",
    "    user_df = pd.merge(user_df, new_df, on = 'state')\n",
    "    user_df = user_df.drop(columns=['state'])  \n",
    "    u_gender = u_gender.lower()\n",
    "    if u_gender == 'female':\n",
    "        x = 1\n",
    "        y = 0\n",
    "    elif u_gender == 'male':  \n",
    "        x = 0\n",
    "        y = 1\n",
    "    user_df['gender_Female'] = [x]\n",
    "    user_df['gender_Male'] = [y] \n",
    "    return user_df"
   ]
  },
  {
   "cell_type": "code",
   "execution_count": null,
   "metadata": {},
   "outputs": [],
   "source": [
    "@app.route('/')\n",
    "def home():\n",
    "    return render_template('index.html')\n",
    "\n",
    "@app.route('/model1')\n",
    "def model1():\n",
    "    return render_template('model1.html')\n",
    "\n",
    "@app.route('/model2/data', methods=['POST'])\n",
    "def model2data():\n",
    "    year = request.form['html_year']\n",
    "    income = request.form['html_income']\n",
    "    gender = request.form['html_gender']\n",
    "    state = request.form['html_state']\n",
    "    data = user_input2(income, state, gender)\n",
    "    data_scaled = X_scaler2.transform(data)\n",
    "    life_expect = modelb.predict(data_scaled)\n",
    "    return str(life_expect[0][0])\n",
    "\n",
    "@app.route('/viz')\n",
    "def viz():\n",
    "    return render_template('viz.html')\n",
    "\n",
    "if __name__ == \"__main__\":\n",
    "    app.run(debug=True)"
   ]
  }
 ],
 "metadata": {
  "kernelspec": {
   "display_name": "Python 3",
   "language": "python",
   "name": "python3"
  },
  "language_info": {
   "codemirror_mode": {
    "name": "ipython",
    "version": 3
   },
   "file_extension": ".py",
   "mimetype": "text/x-python",
   "name": "python",
   "nbconvert_exporter": "python",
   "pygments_lexer": "ipython3",
   "version": "3.7.1"
  }
 },
 "nbformat": 4,
 "nbformat_minor": 2
}
