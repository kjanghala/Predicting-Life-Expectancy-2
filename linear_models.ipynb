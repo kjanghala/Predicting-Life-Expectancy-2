{
 "cells": [
  {
   "cell_type": "markdown",
   "metadata": {},
   "source": [
    "# Linear Regression Model to Predict Life Expectancy"
   ]
  },
  {
   "cell_type": "markdown",
   "metadata": {},
   "source": [
    "### Generate Model Trained and Tested Randomly"
   ]
  },
  {
   "cell_type": "code",
   "execution_count": 1,
   "metadata": {},
   "outputs": [],
   "source": [
    "# import dependencies\n",
    "import pandas as pd\n",
    "import matplotlib.pyplot as plt\n",
    "from sklearn.model_selection import train_test_split\n",
    "from sklearn.preprocessing import StandardScaler\n",
    "from sklearn.linear_model import LinearRegression\n",
    "from sklearn.metrics import mean_squared_error\n",
    "from joblib import dump, load"
   ]
  },
  {
   "cell_type": "code",
   "execution_count": 3,
   "metadata": {},
   "outputs": [
    {
     "data": {
      "text/html": [
       "<div>\n",
       "<style scoped>\n",
       "    .dataframe tbody tr th:only-of-type {\n",
       "        vertical-align: middle;\n",
       "    }\n",
       "\n",
       "    .dataframe tbody tr th {\n",
       "        vertical-align: top;\n",
       "    }\n",
       "\n",
       "    .dataframe thead th {\n",
       "        text-align: right;\n",
       "    }\n",
       "</style>\n",
       "<table border=\"1\" class=\"dataframe\">\n",
       "  <thead>\n",
       "    <tr style=\"text-align: right;\">\n",
       "      <th></th>\n",
       "      <th>state</th>\n",
       "      <th>year</th>\n",
       "      <th>quartile</th>\n",
       "      <th>gender</th>\n",
       "      <th>LE</th>\n",
       "    </tr>\n",
       "  </thead>\n",
       "  <tbody>\n",
       "    <tr>\n",
       "      <th>0</th>\n",
       "      <td>al</td>\n",
       "      <td>2001</td>\n",
       "      <td>1</td>\n",
       "      <td>female</td>\n",
       "      <td>80.977432</td>\n",
       "    </tr>\n",
       "    <tr>\n",
       "      <th>1</th>\n",
       "      <td>al</td>\n",
       "      <td>2002</td>\n",
       "      <td>1</td>\n",
       "      <td>female</td>\n",
       "      <td>81.550888</td>\n",
       "    </tr>\n",
       "    <tr>\n",
       "      <th>2</th>\n",
       "      <td>al</td>\n",
       "      <td>2003</td>\n",
       "      <td>1</td>\n",
       "      <td>female</td>\n",
       "      <td>80.669098</td>\n",
       "    </tr>\n",
       "    <tr>\n",
       "      <th>3</th>\n",
       "      <td>al</td>\n",
       "      <td>2004</td>\n",
       "      <td>1</td>\n",
       "      <td>female</td>\n",
       "      <td>82.787102</td>\n",
       "    </tr>\n",
       "    <tr>\n",
       "      <th>4</th>\n",
       "      <td>al</td>\n",
       "      <td>2005</td>\n",
       "      <td>1</td>\n",
       "      <td>female</td>\n",
       "      <td>81.994995</td>\n",
       "    </tr>\n",
       "  </tbody>\n",
       "</table>\n",
       "</div>"
      ],
      "text/plain": [
       "  state  year  quartile  gender         LE\n",
       "0    al  2001         1  female  80.977432\n",
       "1    al  2002         1  female  81.550888\n",
       "2    al  2003         1  female  80.669098\n",
       "3    al  2004         1  female  82.787102\n",
       "4    al  2005         1  female  81.994995"
      ]
     },
     "execution_count": 3,
     "metadata": {},
     "output_type": "execute_result"
    }
   ],
   "source": [
    "# read in data file\n",
    "data = pd.read_csv('Data/Derived/final_data.csv')\n",
    "data.head()"
   ]
  },
  {
   "cell_type": "code",
   "execution_count": 4,
   "metadata": {},
   "outputs": [
    {
     "name": "stdout",
     "output_type": "stream",
     "text": [
      "(5712, 4) (5712, 1)\n"
     ]
    }
   ],
   "source": [
    "# identify independent and dependent variables \n",
    "X = data[['state', 'year', 'quartile', 'gender']]\n",
    "y = data['LE'].values.reshape(-1, 1)\n",
    "print(X.shape, y.shape)"
   ]
  },
  {
   "cell_type": "code",
   "execution_count": 5,
   "metadata": {},
   "outputs": [
    {
     "data": {
      "text/html": [
       "<div>\n",
       "<style scoped>\n",
       "    .dataframe tbody tr th:only-of-type {\n",
       "        vertical-align: middle;\n",
       "    }\n",
       "\n",
       "    .dataframe tbody tr th {\n",
       "        vertical-align: top;\n",
       "    }\n",
       "\n",
       "    .dataframe thead th {\n",
       "        text-align: right;\n",
       "    }\n",
       "</style>\n",
       "<table border=\"1\" class=\"dataframe\">\n",
       "  <thead>\n",
       "    <tr style=\"text-align: right;\">\n",
       "      <th></th>\n",
       "      <th>year</th>\n",
       "      <th>quartile</th>\n",
       "      <th>state_ak</th>\n",
       "      <th>state_al</th>\n",
       "      <th>state_ar</th>\n",
       "      <th>state_az</th>\n",
       "      <th>state_ca</th>\n",
       "      <th>state_co</th>\n",
       "      <th>state_ct</th>\n",
       "      <th>state_dc</th>\n",
       "      <th>...</th>\n",
       "      <th>state_tx</th>\n",
       "      <th>state_ut</th>\n",
       "      <th>state_va</th>\n",
       "      <th>state_vt</th>\n",
       "      <th>state_wa</th>\n",
       "      <th>state_wi</th>\n",
       "      <th>state_wv</th>\n",
       "      <th>state_wy</th>\n",
       "      <th>gender_female</th>\n",
       "      <th>gender_male</th>\n",
       "    </tr>\n",
       "  </thead>\n",
       "  <tbody>\n",
       "    <tr>\n",
       "      <th>479</th>\n",
       "      <td>2004</td>\n",
       "      <td>1</td>\n",
       "      <td>0</td>\n",
       "      <td>0</td>\n",
       "      <td>0</td>\n",
       "      <td>0</td>\n",
       "      <td>0</td>\n",
       "      <td>0</td>\n",
       "      <td>0</td>\n",
       "      <td>0</td>\n",
       "      <td>...</td>\n",
       "      <td>0</td>\n",
       "      <td>0</td>\n",
       "      <td>0</td>\n",
       "      <td>0</td>\n",
       "      <td>0</td>\n",
       "      <td>0</td>\n",
       "      <td>0</td>\n",
       "      <td>0</td>\n",
       "      <td>1</td>\n",
       "      <td>0</td>\n",
       "    </tr>\n",
       "    <tr>\n",
       "      <th>4202</th>\n",
       "      <td>2003</td>\n",
       "      <td>3</td>\n",
       "      <td>0</td>\n",
       "      <td>0</td>\n",
       "      <td>0</td>\n",
       "      <td>0</td>\n",
       "      <td>0</td>\n",
       "      <td>0</td>\n",
       "      <td>0</td>\n",
       "      <td>0</td>\n",
       "      <td>...</td>\n",
       "      <td>0</td>\n",
       "      <td>0</td>\n",
       "      <td>0</td>\n",
       "      <td>1</td>\n",
       "      <td>0</td>\n",
       "      <td>0</td>\n",
       "      <td>0</td>\n",
       "      <td>0</td>\n",
       "      <td>0</td>\n",
       "      <td>1</td>\n",
       "    </tr>\n",
       "    <tr>\n",
       "      <th>4727</th>\n",
       "      <td>2010</td>\n",
       "      <td>4</td>\n",
       "      <td>0</td>\n",
       "      <td>0</td>\n",
       "      <td>0</td>\n",
       "      <td>0</td>\n",
       "      <td>0</td>\n",
       "      <td>0</td>\n",
       "      <td>0</td>\n",
       "      <td>0</td>\n",
       "      <td>...</td>\n",
       "      <td>0</td>\n",
       "      <td>0</td>\n",
       "      <td>0</td>\n",
       "      <td>0</td>\n",
       "      <td>0</td>\n",
       "      <td>0</td>\n",
       "      <td>0</td>\n",
       "      <td>0</td>\n",
       "      <td>1</td>\n",
       "      <td>0</td>\n",
       "    </tr>\n",
       "    <tr>\n",
       "      <th>2215</th>\n",
       "      <td>2004</td>\n",
       "      <td>2</td>\n",
       "      <td>0</td>\n",
       "      <td>0</td>\n",
       "      <td>0</td>\n",
       "      <td>0</td>\n",
       "      <td>0</td>\n",
       "      <td>1</td>\n",
       "      <td>0</td>\n",
       "      <td>0</td>\n",
       "      <td>...</td>\n",
       "      <td>0</td>\n",
       "      <td>0</td>\n",
       "      <td>0</td>\n",
       "      <td>0</td>\n",
       "      <td>0</td>\n",
       "      <td>0</td>\n",
       "      <td>0</td>\n",
       "      <td>0</td>\n",
       "      <td>0</td>\n",
       "      <td>1</td>\n",
       "    </tr>\n",
       "    <tr>\n",
       "      <th>1867</th>\n",
       "      <td>2006</td>\n",
       "      <td>2</td>\n",
       "      <td>0</td>\n",
       "      <td>0</td>\n",
       "      <td>0</td>\n",
       "      <td>0</td>\n",
       "      <td>0</td>\n",
       "      <td>0</td>\n",
       "      <td>0</td>\n",
       "      <td>0</td>\n",
       "      <td>...</td>\n",
       "      <td>0</td>\n",
       "      <td>0</td>\n",
       "      <td>0</td>\n",
       "      <td>0</td>\n",
       "      <td>0</td>\n",
       "      <td>0</td>\n",
       "      <td>0</td>\n",
       "      <td>0</td>\n",
       "      <td>1</td>\n",
       "      <td>0</td>\n",
       "    </tr>\n",
       "  </tbody>\n",
       "</table>\n",
       "<p>5 rows × 55 columns</p>\n",
       "</div>"
      ],
      "text/plain": [
       "      year  quartile  state_ak  state_al  state_ar  state_az  state_ca  \\\n",
       "479   2004         1         0         0         0         0         0   \n",
       "4202  2003         3         0         0         0         0         0   \n",
       "4727  2010         4         0         0         0         0         0   \n",
       "2215  2004         2         0         0         0         0         0   \n",
       "1867  2006         2         0         0         0         0         0   \n",
       "\n",
       "      state_co  state_ct  state_dc  ...  state_tx  state_ut  state_va  \\\n",
       "479          0         0         0  ...         0         0         0   \n",
       "4202         0         0         0  ...         0         0         0   \n",
       "4727         0         0         0  ...         0         0         0   \n",
       "2215         1         0         0  ...         0         0         0   \n",
       "1867         0         0         0  ...         0         0         0   \n",
       "\n",
       "      state_vt  state_wa  state_wi  state_wv  state_wy  gender_female  \\\n",
       "479          0         0         0         0         0              1   \n",
       "4202         1         0         0         0         0              0   \n",
       "4727         0         0         0         0         0              1   \n",
       "2215         0         0         0         0         0              0   \n",
       "1867         0         0         0         0         0              1   \n",
       "\n",
       "      gender_male  \n",
       "479             0  \n",
       "4202            1  \n",
       "4727            0  \n",
       "2215            1  \n",
       "1867            0  \n",
       "\n",
       "[5 rows x 55 columns]"
      ]
     },
     "execution_count": 5,
     "metadata": {},
     "output_type": "execute_result"
    }
   ],
   "source": [
    "# convert categorical variables to binary\n",
    "X = pd.get_dummies(X, columns=['state', 'gender'])\n",
    "\n",
    "# separate training and testing data\n",
    "X_train, X_test, y_train, y_test = train_test_split(X, y, random_state=0)\n",
    "X_train.head()"
   ]
  },
  {
   "cell_type": "code",
   "execution_count": 6,
   "metadata": {},
   "outputs": [
    {
     "name": "stderr",
     "output_type": "stream",
     "text": [
      "C:\\Users\\Kanika\\Anaconda3\\lib\\site-packages\\sklearn\\preprocessing\\data.py:645: DataConversionWarning: Data with input dtype uint8, int64 were all converted to float64 by StandardScaler.\n",
      "  return self.partial_fit(X, y)\n",
      "C:\\Users\\Kanika\\Anaconda3\\lib\\site-packages\\ipykernel_launcher.py:5: DataConversionWarning: Data with input dtype uint8, int64 were all converted to float64 by StandardScaler.\n",
      "  \"\"\"\n",
      "C:\\Users\\Kanika\\Anaconda3\\lib\\site-packages\\ipykernel_launcher.py:6: DataConversionWarning: Data with input dtype uint8, int64 were all converted to float64 by StandardScaler.\n",
      "  \n"
     ]
    }
   ],
   "source": [
    "# scale data\n",
    "X_scaler = StandardScaler().fit(X_train)\n",
    "y_scaler = StandardScaler().fit(y_train)\n",
    "\n",
    "X_train_scaled = X_scaler.transform(X_train)\n",
    "X_test_scaled = X_scaler.transform(X_test)\n",
    "y_train_scaled = y_scaler.transform(y_train)\n",
    "y_test_scaled = y_scaler.transform(y_test)"
   ]
  },
  {
   "cell_type": "code",
   "execution_count": 7,
   "metadata": {},
   "outputs": [
    {
     "data": {
      "image/png": "[encoded data removed]",
      "text/plain": [
       "<Figure size 432x288 with 1 Axes>"
      ]
     },
     "metadata": {
      "needs_background": "light"
     },
     "output_type": "display_data"
    }
   ],
   "source": [
    "# plot the results\n",
    "model = LinearRegression()\n",
    "model.fit(X_train_scaled, y_train_scaled)\n",
    "plt.scatter(model.predict(X_train_scaled), model.predict(X_train_scaled) - y_train_scaled, c=\"blue\", label=\"Training Data\")\n",
    "plt.scatter(model.predict(X_test_scaled), model.predict(X_test_scaled) - y_test_scaled, c=\"orange\", label=\"Testing Data\")\n",
    "plt.legend()\n",
    "plt.hlines(y=0, xmin=y_test_scaled.min(), xmax=y_test_scaled.max())\n",
    "plt.title(\"Residual Plot\")\n",
    "plt.show()"
   ]
  },
  {
   "cell_type": "code",
   "execution_count": 77,
   "metadata": {},
   "outputs": [
    {
     "name": "stdout",
     "output_type": "stream",
     "text": [
      "Training MSE: 0.2007051164457062, Training R2: 0.7992948835542938\n",
      "Testing MSE: 0.23173310859021998, Testing R2: 0.7707976555734117\n"
     ]
    }
   ],
   "source": [
    "train_predictions = model.predict(X_train_scaled)\n",
    "training_mse = mean_squared_error(y_train_scaled, train_predictions)\n",
    "train_r2 = model.score(X_train_scaled, y_train_scaled)\n",
    "\n",
    "test_predictions = model.predict(X_test_scaled)\n",
    "testing_mse = mean_squared_error(y_test_scaled, test_predictions)\n",
    "test_r2 = model.score(X_test_scaled, y_test_scaled)\n",
    "\n",
    "print(f\"Training MSE: {training_mse}, Training R2: {train_r2}\")\n",
    "print(f\"Testing MSE: {testing_mse}, Testing R2: {test_r2}\")"
   ]
  },
  {
   "cell_type": "code",
   "execution_count": 58,
   "metadata": {},
   "outputs": [
    {
     "data": {
      "text/plain": [
       "array([[ 1.46595633e-01,  7.06134602e-01,  7.91631866e+11,\n",
       "         7.86999337e+11,  8.05356355e+11,  7.58561153e+11,\n",
       "         7.82337107e+11,  8.14366622e+11,  7.48822825e+11,\n",
       "         7.72921390e+11,  8.18831322e+11,  7.91631866e+11,\n",
       "         7.43902275e+11,  8.09875116e+11,  8.14366622e+11,\n",
       "         7.82337107e+11,  7.96235212e+11,  7.77644641e+11,\n",
       "         8.00809879e+11,  8.05356355e+11,  7.91631866e+11,\n",
       "         8.14366622e+11,  7.86999337e+11,  8.14366622e+11,\n",
       "         8.05356355e+11,  8.18831322e+11,  8.14366622e+11,\n",
       "         7.91631866e+11,  8.23269652e+11,  7.68166786e+11,\n",
       "         7.63380241e+11,  7.28926742e+11,  8.09875116e+11,\n",
       "         8.14366622e+11,  8.05356355e+11,  7.72921390e+11,\n",
       "         7.53708896e+11,  8.00809879e+11,  7.96235212e+11,\n",
       "         7.68166786e+11,  7.86999337e+11,  7.58561153e+11,\n",
       "         7.58561153e+11,  7.77644641e+11,  8.09875116e+11,\n",
       "         8.14366622e+11,  8.00809879e+11,  7.77644641e+11,\n",
       "         8.00809879e+11,  8.23269652e+11,  8.23269652e+11,\n",
       "         8.00809879e+11,  7.77644641e+11,  2.48168945e-01,\n",
       "        -2.48168945e-01]])"
      ]
     },
     "execution_count": 58,
     "metadata": {},
     "output_type": "execute_result"
    }
   ],
   "source": [
    "model.coef_"
   ]
  },
  {
   "cell_type": "markdown",
   "metadata": {},
   "source": [
    "### Generate Model Trained on Earlier Years and Tested on Later Years"
   ]
  },
  {
   "cell_type": "code",
   "execution_count": 47,
   "metadata": {},
   "outputs": [
    {
     "name": "stdout",
     "output_type": "stream",
     "text": [
      "(5712, 4) (5712, 1)\n"
     ]
    }
   ],
   "source": [
    "# identify independent and dependent variables \n",
    "X2 = data[['state', 'year', 'quartile', 'gender']]\n",
    "y2 = data['LE'].values.reshape(-1, 1)\n",
    "print(X2.shape, y2.shape)"
   ]
  },
  {
   "cell_type": "code",
   "execution_count": 48,
   "metadata": {},
   "outputs": [
    {
     "data": {
      "text/html": [
       "<div>\n",
       "<style scoped>\n",
       "    .dataframe tbody tr th:only-of-type {\n",
       "        vertical-align: middle;\n",
       "    }\n",
       "\n",
       "    .dataframe tbody tr th {\n",
       "        vertical-align: top;\n",
       "    }\n",
       "\n",
       "    .dataframe thead th {\n",
       "        text-align: right;\n",
       "    }\n",
       "</style>\n",
       "<table border=\"1\" class=\"dataframe\">\n",
       "  <thead>\n",
       "    <tr style=\"text-align: right;\">\n",
       "      <th></th>\n",
       "      <th>state</th>\n",
       "      <th>year</th>\n",
       "      <th>quartile</th>\n",
       "      <th>gender</th>\n",
       "      <th>LE</th>\n",
       "    </tr>\n",
       "  </thead>\n",
       "  <tbody>\n",
       "    <tr>\n",
       "      <th>0</th>\n",
       "      <td>al</td>\n",
       "      <td>2001</td>\n",
       "      <td>1</td>\n",
       "      <td>female</td>\n",
       "      <td>80.977432</td>\n",
       "    </tr>\n",
       "    <tr>\n",
       "      <th>1</th>\n",
       "      <td>al</td>\n",
       "      <td>2002</td>\n",
       "      <td>1</td>\n",
       "      <td>female</td>\n",
       "      <td>81.550888</td>\n",
       "    </tr>\n",
       "    <tr>\n",
       "      <th>2</th>\n",
       "      <td>al</td>\n",
       "      <td>2003</td>\n",
       "      <td>1</td>\n",
       "      <td>female</td>\n",
       "      <td>80.669098</td>\n",
       "    </tr>\n",
       "    <tr>\n",
       "      <th>3</th>\n",
       "      <td>al</td>\n",
       "      <td>2004</td>\n",
       "      <td>1</td>\n",
       "      <td>female</td>\n",
       "      <td>82.787102</td>\n",
       "    </tr>\n",
       "    <tr>\n",
       "      <th>4</th>\n",
       "      <td>al</td>\n",
       "      <td>2005</td>\n",
       "      <td>1</td>\n",
       "      <td>female</td>\n",
       "      <td>81.994995</td>\n",
       "    </tr>\n",
       "  </tbody>\n",
       "</table>\n",
       "</div>"
      ],
      "text/plain": [
       "  state  year  quartile  gender         LE\n",
       "0    al  2001         1  female  80.977432\n",
       "1    al  2002         1  female  81.550888\n",
       "2    al  2003         1  female  80.669098\n",
       "3    al  2004         1  female  82.787102\n",
       "4    al  2005         1  female  81.994995"
      ]
     },
     "execution_count": 48,
     "metadata": {},
     "output_type": "execute_result"
    }
   ],
   "source": [
    "# read in data file\n",
    "data2 = pd.read_csv('Data/Derived/final_data.csv')\n",
    "data2.head()"
   ]
  },
  {
   "cell_type": "code",
   "execution_count": 49,
   "metadata": {},
   "outputs": [
    {
     "data": {
      "text/html": [
       "<div>\n",
       "<style scoped>\n",
       "    .dataframe tbody tr th:only-of-type {\n",
       "        vertical-align: middle;\n",
       "    }\n",
       "\n",
       "    .dataframe tbody tr th {\n",
       "        vertical-align: top;\n",
       "    }\n",
       "\n",
       "    .dataframe thead th {\n",
       "        text-align: right;\n",
       "    }\n",
       "</style>\n",
       "<table border=\"1\" class=\"dataframe\">\n",
       "  <thead>\n",
       "    <tr style=\"text-align: right;\">\n",
       "      <th></th>\n",
       "      <th>year</th>\n",
       "      <th>quartile</th>\n",
       "      <th>state_ak</th>\n",
       "      <th>state_al</th>\n",
       "      <th>state_ar</th>\n",
       "      <th>state_az</th>\n",
       "      <th>state_ca</th>\n",
       "      <th>state_co</th>\n",
       "      <th>state_ct</th>\n",
       "      <th>state_dc</th>\n",
       "      <th>...</th>\n",
       "      <th>state_tx</th>\n",
       "      <th>state_ut</th>\n",
       "      <th>state_va</th>\n",
       "      <th>state_vt</th>\n",
       "      <th>state_wa</th>\n",
       "      <th>state_wi</th>\n",
       "      <th>state_wv</th>\n",
       "      <th>state_wy</th>\n",
       "      <th>gender_female</th>\n",
       "      <th>gender_male</th>\n",
       "    </tr>\n",
       "  </thead>\n",
       "  <tbody>\n",
       "    <tr>\n",
       "      <th>0</th>\n",
       "      <td>2001</td>\n",
       "      <td>1</td>\n",
       "      <td>0</td>\n",
       "      <td>1</td>\n",
       "      <td>0</td>\n",
       "      <td>0</td>\n",
       "      <td>0</td>\n",
       "      <td>0</td>\n",
       "      <td>0</td>\n",
       "      <td>0</td>\n",
       "      <td>...</td>\n",
       "      <td>0</td>\n",
       "      <td>0</td>\n",
       "      <td>0</td>\n",
       "      <td>0</td>\n",
       "      <td>0</td>\n",
       "      <td>0</td>\n",
       "      <td>0</td>\n",
       "      <td>0</td>\n",
       "      <td>1</td>\n",
       "      <td>0</td>\n",
       "    </tr>\n",
       "    <tr>\n",
       "      <th>1638</th>\n",
       "      <td>2001</td>\n",
       "      <td>2</td>\n",
       "      <td>0</td>\n",
       "      <td>0</td>\n",
       "      <td>0</td>\n",
       "      <td>0</td>\n",
       "      <td>0</td>\n",
       "      <td>0</td>\n",
       "      <td>0</td>\n",
       "      <td>0</td>\n",
       "      <td>...</td>\n",
       "      <td>0</td>\n",
       "      <td>0</td>\n",
       "      <td>0</td>\n",
       "      <td>0</td>\n",
       "      <td>0</td>\n",
       "      <td>0</td>\n",
       "      <td>0</td>\n",
       "      <td>0</td>\n",
       "      <td>1</td>\n",
       "      <td>0</td>\n",
       "    </tr>\n",
       "    <tr>\n",
       "      <th>3136</th>\n",
       "      <td>2001</td>\n",
       "      <td>3</td>\n",
       "      <td>0</td>\n",
       "      <td>0</td>\n",
       "      <td>0</td>\n",
       "      <td>0</td>\n",
       "      <td>0</td>\n",
       "      <td>0</td>\n",
       "      <td>0</td>\n",
       "      <td>0</td>\n",
       "      <td>...</td>\n",
       "      <td>0</td>\n",
       "      <td>0</td>\n",
       "      <td>0</td>\n",
       "      <td>0</td>\n",
       "      <td>0</td>\n",
       "      <td>0</td>\n",
       "      <td>0</td>\n",
       "      <td>0</td>\n",
       "      <td>1</td>\n",
       "      <td>0</td>\n",
       "    </tr>\n",
       "    <tr>\n",
       "      <th>4606</th>\n",
       "      <td>2001</td>\n",
       "      <td>4</td>\n",
       "      <td>0</td>\n",
       "      <td>0</td>\n",
       "      <td>0</td>\n",
       "      <td>0</td>\n",
       "      <td>0</td>\n",
       "      <td>0</td>\n",
       "      <td>0</td>\n",
       "      <td>0</td>\n",
       "      <td>...</td>\n",
       "      <td>0</td>\n",
       "      <td>0</td>\n",
       "      <td>0</td>\n",
       "      <td>0</td>\n",
       "      <td>0</td>\n",
       "      <td>0</td>\n",
       "      <td>0</td>\n",
       "      <td>0</td>\n",
       "      <td>1</td>\n",
       "      <td>0</td>\n",
       "    </tr>\n",
       "    <tr>\n",
       "      <th>1624</th>\n",
       "      <td>2001</td>\n",
       "      <td>2</td>\n",
       "      <td>0</td>\n",
       "      <td>0</td>\n",
       "      <td>0</td>\n",
       "      <td>0</td>\n",
       "      <td>0</td>\n",
       "      <td>0</td>\n",
       "      <td>0</td>\n",
       "      <td>0</td>\n",
       "      <td>...</td>\n",
       "      <td>0</td>\n",
       "      <td>0</td>\n",
       "      <td>0</td>\n",
       "      <td>0</td>\n",
       "      <td>0</td>\n",
       "      <td>0</td>\n",
       "      <td>0</td>\n",
       "      <td>0</td>\n",
       "      <td>1</td>\n",
       "      <td>0</td>\n",
       "    </tr>\n",
       "  </tbody>\n",
       "</table>\n",
       "<p>5 rows × 55 columns</p>\n",
       "</div>"
      ],
      "text/plain": [
       "      year  quartile  state_ak  state_al  state_ar  state_az  state_ca  \\\n",
       "0     2001         1         0         1         0         0         0   \n",
       "1638  2001         2         0         0         0         0         0   \n",
       "3136  2001         3         0         0         0         0         0   \n",
       "4606  2001         4         0         0         0         0         0   \n",
       "1624  2001         2         0         0         0         0         0   \n",
       "\n",
       "      state_co  state_ct  state_dc  ...  state_tx  state_ut  state_va  \\\n",
       "0            0         0         0  ...         0         0         0   \n",
       "1638         0         0         0  ...         0         0         0   \n",
       "3136         0         0         0  ...         0         0         0   \n",
       "4606         0         0         0  ...         0         0         0   \n",
       "1624         0         0         0  ...         0         0         0   \n",
       "\n",
       "      state_vt  state_wa  state_wi  state_wv  state_wy  gender_female  \\\n",
       "0            0         0         0         0         0              1   \n",
       "1638         0         0         0         0         0              1   \n",
       "3136         0         0         0         0         0              1   \n",
       "4606         0         0         0         0         0              1   \n",
       "1624         0         0         0         0         0              1   \n",
       "\n",
       "      gender_male  \n",
       "0               0  \n",
       "1638            0  \n",
       "3136            0  \n",
       "4606            0  \n",
       "1624            0  \n",
       "\n",
       "[5 rows x 55 columns]"
      ]
     },
     "execution_count": 49,
     "metadata": {},
     "output_type": "execute_result"
    }
   ],
   "source": [
    "# convert categorical variables to binary\n",
    "X2 = pd.get_dummies(X2, columns=['state', 'gender'])\n",
    "\n",
    "# sort by year\n",
    "X2 = X2.sort_values(by=['year'])\n",
    "X2.head()"
   ]
  },
  {
   "cell_type": "code",
   "execution_count": 52,
   "metadata": {},
   "outputs": [
    {
     "data": {
      "text/html": [
       "<div>\n",
       "<style scoped>\n",
       "    .dataframe tbody tr th:only-of-type {\n",
       "        vertical-align: middle;\n",
       "    }\n",
       "\n",
       "    .dataframe tbody tr th {\n",
       "        vertical-align: top;\n",
       "    }\n",
       "\n",
       "    .dataframe thead th {\n",
       "        text-align: right;\n",
       "    }\n",
       "</style>\n",
       "<table border=\"1\" class=\"dataframe\">\n",
       "  <thead>\n",
       "    <tr style=\"text-align: right;\">\n",
       "      <th></th>\n",
       "      <th>year</th>\n",
       "      <th>quartile</th>\n",
       "      <th>state_ak</th>\n",
       "      <th>state_al</th>\n",
       "      <th>state_ar</th>\n",
       "      <th>state_az</th>\n",
       "      <th>state_ca</th>\n",
       "      <th>state_co</th>\n",
       "      <th>state_ct</th>\n",
       "      <th>state_dc</th>\n",
       "      <th>...</th>\n",
       "      <th>state_tx</th>\n",
       "      <th>state_ut</th>\n",
       "      <th>state_va</th>\n",
       "      <th>state_vt</th>\n",
       "      <th>state_wa</th>\n",
       "      <th>state_wi</th>\n",
       "      <th>state_wv</th>\n",
       "      <th>state_wy</th>\n",
       "      <th>gender_female</th>\n",
       "      <th>gender_male</th>\n",
       "    </tr>\n",
       "  </thead>\n",
       "  <tbody>\n",
       "    <tr>\n",
       "      <th>0</th>\n",
       "      <td>2001</td>\n",
       "      <td>1</td>\n",
       "      <td>0</td>\n",
       "      <td>1</td>\n",
       "      <td>0</td>\n",
       "      <td>0</td>\n",
       "      <td>0</td>\n",
       "      <td>0</td>\n",
       "      <td>0</td>\n",
       "      <td>0</td>\n",
       "      <td>...</td>\n",
       "      <td>0</td>\n",
       "      <td>0</td>\n",
       "      <td>0</td>\n",
       "      <td>0</td>\n",
       "      <td>0</td>\n",
       "      <td>0</td>\n",
       "      <td>0</td>\n",
       "      <td>0</td>\n",
       "      <td>1</td>\n",
       "      <td>0</td>\n",
       "    </tr>\n",
       "    <tr>\n",
       "      <th>1638</th>\n",
       "      <td>2001</td>\n",
       "      <td>2</td>\n",
       "      <td>0</td>\n",
       "      <td>0</td>\n",
       "      <td>0</td>\n",
       "      <td>0</td>\n",
       "      <td>0</td>\n",
       "      <td>0</td>\n",
       "      <td>0</td>\n",
       "      <td>0</td>\n",
       "      <td>...</td>\n",
       "      <td>0</td>\n",
       "      <td>0</td>\n",
       "      <td>0</td>\n",
       "      <td>0</td>\n",
       "      <td>0</td>\n",
       "      <td>0</td>\n",
       "      <td>0</td>\n",
       "      <td>0</td>\n",
       "      <td>1</td>\n",
       "      <td>0</td>\n",
       "    </tr>\n",
       "    <tr>\n",
       "      <th>3136</th>\n",
       "      <td>2001</td>\n",
       "      <td>3</td>\n",
       "      <td>0</td>\n",
       "      <td>0</td>\n",
       "      <td>0</td>\n",
       "      <td>0</td>\n",
       "      <td>0</td>\n",
       "      <td>0</td>\n",
       "      <td>0</td>\n",
       "      <td>0</td>\n",
       "      <td>...</td>\n",
       "      <td>0</td>\n",
       "      <td>0</td>\n",
       "      <td>0</td>\n",
       "      <td>0</td>\n",
       "      <td>0</td>\n",
       "      <td>0</td>\n",
       "      <td>0</td>\n",
       "      <td>0</td>\n",
       "      <td>1</td>\n",
       "      <td>0</td>\n",
       "    </tr>\n",
       "    <tr>\n",
       "      <th>4606</th>\n",
       "      <td>2001</td>\n",
       "      <td>4</td>\n",
       "      <td>0</td>\n",
       "      <td>0</td>\n",
       "      <td>0</td>\n",
       "      <td>0</td>\n",
       "      <td>0</td>\n",
       "      <td>0</td>\n",
       "      <td>0</td>\n",
       "      <td>0</td>\n",
       "      <td>...</td>\n",
       "      <td>0</td>\n",
       "      <td>0</td>\n",
       "      <td>0</td>\n",
       "      <td>0</td>\n",
       "      <td>0</td>\n",
       "      <td>0</td>\n",
       "      <td>0</td>\n",
       "      <td>0</td>\n",
       "      <td>1</td>\n",
       "      <td>0</td>\n",
       "    </tr>\n",
       "    <tr>\n",
       "      <th>1624</th>\n",
       "      <td>2001</td>\n",
       "      <td>2</td>\n",
       "      <td>0</td>\n",
       "      <td>0</td>\n",
       "      <td>0</td>\n",
       "      <td>0</td>\n",
       "      <td>0</td>\n",
       "      <td>0</td>\n",
       "      <td>0</td>\n",
       "      <td>0</td>\n",
       "      <td>...</td>\n",
       "      <td>0</td>\n",
       "      <td>0</td>\n",
       "      <td>0</td>\n",
       "      <td>0</td>\n",
       "      <td>0</td>\n",
       "      <td>0</td>\n",
       "      <td>0</td>\n",
       "      <td>0</td>\n",
       "      <td>1</td>\n",
       "      <td>0</td>\n",
       "    </tr>\n",
       "  </tbody>\n",
       "</table>\n",
       "<p>5 rows × 55 columns</p>\n",
       "</div>"
      ],
      "text/plain": [
       "      year  quartile  state_ak  state_al  state_ar  state_az  state_ca  \\\n",
       "0     2001         1         0         1         0         0         0   \n",
       "1638  2001         2         0         0         0         0         0   \n",
       "3136  2001         3         0         0         0         0         0   \n",
       "4606  2001         4         0         0         0         0         0   \n",
       "1624  2001         2         0         0         0         0         0   \n",
       "\n",
       "      state_co  state_ct  state_dc  ...  state_tx  state_ut  state_va  \\\n",
       "0            0         0         0  ...         0         0         0   \n",
       "1638         0         0         0  ...         0         0         0   \n",
       "3136         0         0         0  ...         0         0         0   \n",
       "4606         0         0         0  ...         0         0         0   \n",
       "1624         0         0         0  ...         0         0         0   \n",
       "\n",
       "      state_vt  state_wa  state_wi  state_wv  state_wy  gender_female  \\\n",
       "0            0         0         0         0         0              1   \n",
       "1638         0         0         0         0         0              1   \n",
       "3136         0         0         0         0         0              1   \n",
       "4606         0         0         0         0         0              1   \n",
       "1624         0         0         0         0         0              1   \n",
       "\n",
       "      gender_male  \n",
       "0               0  \n",
       "1638            0  \n",
       "3136            0  \n",
       "4606            0  \n",
       "1624            0  \n",
       "\n",
       "[5 rows x 55 columns]"
      ]
     },
     "execution_count": 52,
     "metadata": {},
     "output_type": "execute_result"
    }
   ],
   "source": [
    "# separate training and testing data\n",
    "\n",
    "train_pct_index = int(0.75 * len(X2))\n",
    "X2_train, X2_test = X2[:train_pct_index], X2[train_pct_index:]\n",
    "y2_train, y2_test = y2[:train_pct_index], y2[train_pct_index:]\n",
    "\n",
    "X2_train.head()"
   ]
  },
  {
   "cell_type": "code",
   "execution_count": 53,
   "metadata": {},
   "outputs": [
    {
     "name": "stderr",
     "output_type": "stream",
     "text": [
      "C:\\Users\\Kanika\\Anaconda3\\lib\\site-packages\\sklearn\\preprocessing\\data.py:645: DataConversionWarning: Data with input dtype uint8, int64 were all converted to float64 by StandardScaler.\n",
      "  return self.partial_fit(X, y)\n",
      "C:\\Users\\Kanika\\Anaconda3\\lib\\site-packages\\ipykernel_launcher.py:5: DataConversionWarning: Data with input dtype uint8, int64 were all converted to float64 by StandardScaler.\n",
      "  \"\"\"\n",
      "C:\\Users\\Kanika\\Anaconda3\\lib\\site-packages\\ipykernel_launcher.py:6: DataConversionWarning: Data with input dtype uint8, int64 were all converted to float64 by StandardScaler.\n",
      "  \n"
     ]
    }
   ],
   "source": [
    "# scale data\n",
    "X2_scaler = StandardScaler().fit(X2_train)\n",
    "y2_scaler = StandardScaler().fit(y2_train)\n",
    "\n",
    "X2_train_scaled = X2_scaler.transform(X2_train)\n",
    "X2_test_scaled = X2_scaler.transform(X2_test)\n",
    "y2_train_scaled = y2_scaler.transform(y2_train)\n",
    "y2_test_scaled = y2_scaler.transform(y2_test)"
   ]
  },
  {
   "cell_type": "code",
   "execution_count": 55,
   "metadata": {},
   "outputs": [
    {
     "data": {
      "image/png": "[encoded data removed]",
      "text/plain": [
       "<Figure size 432x288 with 1 Axes>"
      ]
     },
     "metadata": {
      "needs_background": "light"
     },
     "output_type": "display_data"
    }
   ],
   "source": [
    "# plot the results\n",
    "model2 = LinearRegression()\n",
    "model2.fit(X2_train_scaled, y2_train_scaled)\n",
    "plt.scatter(model2.predict(X2_train_scaled), model2.predict(X2_train_scaled) - y2_train_scaled, c=\"blue\", label=\"Training Data\")\n",
    "plt.scatter(model2.predict(X2_test_scaled), model2.predict(X2_test_scaled) - y2_test_scaled, c=\"orange\", label=\"Testing Data\")\n",
    "plt.legend()\n",
    "plt.hlines(y=0, xmin=y2_test_scaled.min(), xmax=y2_test_scaled.max())\n",
    "plt.title(\"Residual Plot\")\n",
    "plt.show()"
   ]
  },
  {
   "cell_type": "code",
   "execution_count": 57,
   "metadata": {},
   "outputs": [
    {
     "name": "stdout",
     "output_type": "stream",
     "text": [
      "Training MSE: 0.8131114331489625, Training R2: 0.18688856685103739\n",
      "Testing MSE: 0.5255167528387955, Testing R2: -0.38713237412644874\n"
     ]
    }
   ],
   "source": [
    "train_predictions2 = model2.predict(X2_train_scaled)\n",
    "training_mse2 = mean_squared_error(y2_train_scaled, train_predictions2)\n",
    "train_r2_b = model2.score(X2_train_scaled, y2_train_scaled)\n",
    "\n",
    "test_predictions2 = model2.predict(X2_test_scaled)\n",
    "testing_mse2 = mean_squared_error(y2_test_scaled, test_predictions2)\n",
    "test_r2_b = model2.score(X2_test_scaled, y2_test_scaled)\n",
    "\n",
    "print(f\"Training MSE: {training_mse2}, Training R2: {train_r2_b}\")\n",
    "print(f\"Testing MSE: {testing_mse2}, Testing R2: {test_r2_b}\")"
   ]
  },
  {
   "cell_type": "markdown",
   "metadata": {},
   "source": [
    "### Generate Model Without State Data, Trained and Tested Randomly"
   ]
  },
  {
   "cell_type": "code",
   "execution_count": 69,
   "metadata": {},
   "outputs": [
    {
     "data": {
      "text/html": [
       "<div>\n",
       "<style scoped>\n",
       "    .dataframe tbody tr th:only-of-type {\n",
       "        vertical-align: middle;\n",
       "    }\n",
       "\n",
       "    .dataframe tbody tr th {\n",
       "        vertical-align: top;\n",
       "    }\n",
       "\n",
       "    .dataframe thead th {\n",
       "        text-align: right;\n",
       "    }\n",
       "</style>\n",
       "<table border=\"1\" class=\"dataframe\">\n",
       "  <thead>\n",
       "    <tr style=\"text-align: right;\">\n",
       "      <th></th>\n",
       "      <th>year</th>\n",
       "      <th>quartile</th>\n",
       "      <th>gender</th>\n",
       "      <th>LE</th>\n",
       "    </tr>\n",
       "  </thead>\n",
       "  <tbody>\n",
       "    <tr>\n",
       "      <th>0</th>\n",
       "      <td>2001</td>\n",
       "      <td>1</td>\n",
       "      <td>female</td>\n",
       "      <td>80.977432</td>\n",
       "    </tr>\n",
       "    <tr>\n",
       "      <th>1</th>\n",
       "      <td>2002</td>\n",
       "      <td>1</td>\n",
       "      <td>female</td>\n",
       "      <td>81.550888</td>\n",
       "    </tr>\n",
       "    <tr>\n",
       "      <th>2</th>\n",
       "      <td>2003</td>\n",
       "      <td>1</td>\n",
       "      <td>female</td>\n",
       "      <td>80.669098</td>\n",
       "    </tr>\n",
       "    <tr>\n",
       "      <th>3</th>\n",
       "      <td>2004</td>\n",
       "      <td>1</td>\n",
       "      <td>female</td>\n",
       "      <td>82.787102</td>\n",
       "    </tr>\n",
       "    <tr>\n",
       "      <th>4</th>\n",
       "      <td>2005</td>\n",
       "      <td>1</td>\n",
       "      <td>female</td>\n",
       "      <td>81.994995</td>\n",
       "    </tr>\n",
       "  </tbody>\n",
       "</table>\n",
       "</div>"
      ],
      "text/plain": [
       "   year  quartile  gender         LE\n",
       "0  2001         1  female  80.977432\n",
       "1  2002         1  female  81.550888\n",
       "2  2003         1  female  80.669098\n",
       "3  2004         1  female  82.787102\n",
       "4  2005         1  female  81.994995"
      ]
     },
     "execution_count": 69,
     "metadata": {},
     "output_type": "execute_result"
    }
   ],
   "source": [
    "# read in data file\n",
    "data3 = pd.read_csv('Data/Derived/final_data.csv')\n",
    "data3 = data3.drop(columns=['state'])\n",
    "data3.head()"
   ]
  },
  {
   "cell_type": "code",
   "execution_count": 71,
   "metadata": {},
   "outputs": [
    {
     "name": "stdout",
     "output_type": "stream",
     "text": [
      "(5712, 3) (5712, 1)\n"
     ]
    }
   ],
   "source": [
    "# identify independent and dependent variables \n",
    "X3 = data3[['year', 'quartile', 'gender']]\n",
    "y3 = data3['LE'].values.reshape(-1, 1)\n",
    "print(X3.shape, y3.shape)"
   ]
  },
  {
   "cell_type": "code",
   "execution_count": 72,
   "metadata": {},
   "outputs": [
    {
     "data": {
      "text/html": [
       "<div>\n",
       "<style scoped>\n",
       "    .dataframe tbody tr th:only-of-type {\n",
       "        vertical-align: middle;\n",
       "    }\n",
       "\n",
       "    .dataframe tbody tr th {\n",
       "        vertical-align: top;\n",
       "    }\n",
       "\n",
       "    .dataframe thead th {\n",
       "        text-align: right;\n",
       "    }\n",
       "</style>\n",
       "<table border=\"1\" class=\"dataframe\">\n",
       "  <thead>\n",
       "    <tr style=\"text-align: right;\">\n",
       "      <th></th>\n",
       "      <th>year</th>\n",
       "      <th>quartile</th>\n",
       "      <th>gender_female</th>\n",
       "      <th>gender_male</th>\n",
       "    </tr>\n",
       "  </thead>\n",
       "  <tbody>\n",
       "    <tr>\n",
       "      <th>479</th>\n",
       "      <td>2004</td>\n",
       "      <td>1</td>\n",
       "      <td>1</td>\n",
       "      <td>0</td>\n",
       "    </tr>\n",
       "    <tr>\n",
       "      <th>4202</th>\n",
       "      <td>2003</td>\n",
       "      <td>3</td>\n",
       "      <td>0</td>\n",
       "      <td>1</td>\n",
       "    </tr>\n",
       "    <tr>\n",
       "      <th>4727</th>\n",
       "      <td>2010</td>\n",
       "      <td>4</td>\n",
       "      <td>1</td>\n",
       "      <td>0</td>\n",
       "    </tr>\n",
       "    <tr>\n",
       "      <th>2215</th>\n",
       "      <td>2004</td>\n",
       "      <td>2</td>\n",
       "      <td>0</td>\n",
       "      <td>1</td>\n",
       "    </tr>\n",
       "    <tr>\n",
       "      <th>1867</th>\n",
       "      <td>2006</td>\n",
       "      <td>2</td>\n",
       "      <td>1</td>\n",
       "      <td>0</td>\n",
       "    </tr>\n",
       "  </tbody>\n",
       "</table>\n",
       "</div>"
      ],
      "text/plain": [
       "      year  quartile  gender_female  gender_male\n",
       "479   2004         1              1            0\n",
       "4202  2003         3              0            1\n",
       "4727  2010         4              1            0\n",
       "2215  2004         2              0            1\n",
       "1867  2006         2              1            0"
      ]
     },
     "execution_count": 72,
     "metadata": {},
     "output_type": "execute_result"
    }
   ],
   "source": [
    "# convert categorical variables to binary\n",
    "X3 = pd.get_dummies(X3, columns=['gender'])\n",
    "\n",
    "# separate training and testing data\n",
    "X3_train, X3_test, y3_train, y3_test = train_test_split(X3, y3, random_state=0)\n",
    "X3_train.head()"
   ]
  },
  {
   "cell_type": "code",
   "execution_count": 73,
   "metadata": {},
   "outputs": [
    {
     "name": "stderr",
     "output_type": "stream",
     "text": [
      "C:\\Users\\Kanika\\Anaconda3\\lib\\site-packages\\sklearn\\preprocessing\\data.py:645: DataConversionWarning: Data with input dtype uint8, int64 were all converted to float64 by StandardScaler.\n",
      "  return self.partial_fit(X, y)\n",
      "C:\\Users\\Kanika\\Anaconda3\\lib\\site-packages\\ipykernel_launcher.py:5: DataConversionWarning: Data with input dtype uint8, int64 were all converted to float64 by StandardScaler.\n",
      "  \"\"\"\n",
      "C:\\Users\\Kanika\\Anaconda3\\lib\\site-packages\\ipykernel_launcher.py:6: DataConversionWarning: Data with input dtype uint8, int64 were all converted to float64 by StandardScaler.\n",
      "  \n"
     ]
    }
   ],
   "source": [
    "# scale data\n",
    "X3_scaler = StandardScaler().fit(X3_train)\n",
    "y3_scaler = StandardScaler().fit(y3_train)\n",
    "\n",
    "X3_train_scaled = X3_scaler.transform(X3_train)\n",
    "X3_test_scaled = X3_scaler.transform(X3_test)\n",
    "y3_train_scaled = y3_scaler.transform(y3_train)\n",
    "y3_test_scaled = y3_scaler.transform(y3_test)"
   ]
  },
  {
   "cell_type": "code",
   "execution_count": 74,
   "metadata": {},
   "outputs": [
    {
     "data": {
      "image/png": "[encoded data removed]",
      "text/plain": [
       "<Figure size 432x288 with 1 Axes>"
      ]
     },
     "metadata": {
      "needs_background": "light"
     },
     "output_type": "display_data"
    }
   ],
   "source": [
    "# plot the results\n",
    "model3 = LinearRegression()\n",
    "model3.fit(X3_train_scaled, y3_train_scaled)\n",
    "plt.scatter(model3.predict(X3_train_scaled), model3.predict(X3_train_scaled) - y3_train_scaled, c=\"blue\", label=\"Training Data\")\n",
    "plt.scatter(model3.predict(X3_test_scaled), model3.predict(X3_test_scaled) - y3_test_scaled, c=\"orange\", label=\"Testing Data\")\n",
    "plt.legend()\n",
    "plt.hlines(y=0, xmin=y3_test_scaled.min(), xmax=y3_test_scaled.max())\n",
    "plt.title(\"Residual Plot\")\n",
    "plt.show()"
   ]
  },
  {
   "cell_type": "code",
   "execution_count": 75,
   "metadata": {},
   "outputs": [
    {
     "name": "stdout",
     "output_type": "stream",
     "text": [
      "Training MSE: 0.23395911208550116, Training R2: 0.7660408879144989\n",
      "Testing MSE: 0.25714771625477056, Testing R2: 0.7456606015942258\n"
     ]
    }
   ],
   "source": [
    "train_predictions3 = model3.predict(X3_train_scaled)\n",
    "training_mse3 = mean_squared_error(y3_train_scaled, train_predictions3)\n",
    "train_r2_c = model3.score(X3_train_scaled, y3_train_scaled)\n",
    "\n",
    "test_predictions3 = model3.predict(X3_test_scaled)\n",
    "testing_mse3 = mean_squared_error(y3_test_scaled, test_predictions3)\n",
    "test_r2_c = model3.score(X3_test_scaled, y3_test_scaled)\n",
    "\n",
    "print(f\"Training MSE: {training_mse3}, Training R2: {train_r2_c}\")\n",
    "print(f\"Testing MSE: {testing_mse3}, Testing R2: {test_r2_c}\")"
   ]
  },
  {
   "cell_type": "code",
   "execution_count": 76,
   "metadata": {},
   "outputs": [
    {
     "data": {
      "text/plain": [
       "array([[ 0.14746738,  0.70514198,  0.24877063, -0.24877063]])"
      ]
     },
     "execution_count": 76,
     "metadata": {},
     "output_type": "execute_result"
    }
   ],
   "source": [
    "model3.coef_"
   ]
  },
  {
   "cell_type": "markdown",
   "metadata": {},
   "source": [
    "### Export Models and Scalers"
   ]
  },
  {
   "cell_type": "code",
   "execution_count": 79,
   "metadata": {},
   "outputs": [
    {
     "data": {
      "text/plain": [
       "['models/state_model_scaler.joblib']"
      ]
     },
     "execution_count": 79,
     "metadata": {},
     "output_type": "execute_result"
    }
   ],
   "source": [
    "# export model 1\n",
    "production = LinearRegression()\n",
    "production.fit(X_train_scaled, y_train)\n",
    "dump(production, 'models/state_model.joblib')\n",
    "dump(X_scaler, 'models/state_model_scaler.joblib')"
   ]
  },
  {
   "cell_type": "code",
   "execution_count": 82,
   "metadata": {},
   "outputs": [
    {
     "data": {
      "text/plain": [
       "['models/nost_model_scaler.joblib']"
      ]
     },
     "execution_count": 82,
     "metadata": {},
     "output_type": "execute_result"
    }
   ],
   "source": [
    "# export model 3\n",
    "production2 = LinearRegression()\n",
    "production2.fit(X3_train_scaled, y3_train)\n",
    "dump(production2, 'models/nost_model.joblib')\n",
    "dump(X3_scaler, 'models/nost_model_scaler.joblib')"
   ]
  },
  {
   "cell_type": "code",
   "execution_count": null,
   "metadata": {},
   "outputs": [],
   "source": []
  }
 ],
 "metadata": {
  "kernelspec": {
   "display_name": "Python 3",
   "language": "python",
   "name": "python3"
  },
  "language_info": {
   "codemirror_mode": {
    "name": "ipython",
    "version": 3
   },
   "file_extension": ".py",
   "mimetype": "text/x-python",
   "name": "python",
   "nbconvert_exporter": "python",
   "pygments_lexer": "ipython3",
   "version": "3.7.1"
  }
 },
 "nbformat": 4,
 "nbformat_minor": 2
}
